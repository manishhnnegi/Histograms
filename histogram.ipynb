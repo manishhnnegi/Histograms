{
 "cells": [
  {
   "cell_type": "markdown",
   "id": "068773a0",
   "metadata": {},
   "source": [
    "# Histogram"
   ]
  },
  {
   "cell_type": "code",
   "execution_count": 8,
   "id": "05b815e1",
   "metadata": {},
   "outputs": [],
   "source": [
    "import pandas as pd\n",
    "import numpy as np\n",
    "import matplotlib.pyplot as plt\n",
    "import seaborn as sns"
   ]
  },
  {
   "cell_type": "markdown",
   "id": "d5ea5b88",
   "metadata": {},
   "source": [
    "## Unemployment Rates dataset for Canada"
   ]
  },
  {
   "cell_type": "markdown",
   "id": "8c4c03c5",
   "metadata": {},
   "source": [
    "#### Ungrouped data"
   ]
  },
  {
   "cell_type": "code",
   "execution_count": 4,
   "id": "bd469032",
   "metadata": {},
   "outputs": [
    {
     "name": "stdout",
     "output_type": "stream",
     "text": [
      "Unemployment Rates for Canada for last 60 years\n"
     ]
    }
   ],
   "source": [
    "data = [2.3, 6.9, 6.3 ,11.3 ,9.6,\n",
    "2.8, 7.1, 5.6 ,10.6, 9.1,\n",
    "3.6 ,5.5 ,7.1, 8.8 ,7.6,\n",
    "2.4, 5.5, 7.1, 8.8 ,7.6,\n",
    "2.9 ,4.7, 7.1 ,7.8, 6.8,\n",
    "3.1 ,3.9, 8.0, 7.5 ,7.2,\n",
    "4.6 ,3.6, 8.4 ,8.1 ,7.7,\n",
    "4.4 ,4.1 ,7.5, 10.3, 7.6,\n",
    "3.4 ,4.8, 7.5 ,11.2 ,7.2,\n",
    "4.6 ,4.7, 7.6 ,11.4, 6.8,\n",
    "6.9 ,5.9 ,11.0, 10.4 ,6.3,\n",
    "6.0 ,6.4, 12.0 ,9.5, 6.0]\n",
    "\n",
    "print(f\"Unemployment Rates for Canada for last {len(data)} years\")"
   ]
  },
  {
   "cell_type": "markdown",
   "id": "4b19c654",
   "metadata": {},
   "source": [
    "## Create a dataframe "
   ]
  },
  {
   "cell_type": "code",
   "execution_count": 7,
   "id": "1986db5c",
   "metadata": {},
   "outputs": [
    {
     "data": {
      "text/html": [
       "<div>\n",
       "<style scoped>\n",
       "    .dataframe tbody tr th:only-of-type {\n",
       "        vertical-align: middle;\n",
       "    }\n",
       "\n",
       "    .dataframe tbody tr th {\n",
       "        vertical-align: top;\n",
       "    }\n",
       "\n",
       "    .dataframe thead th {\n",
       "        text-align: right;\n",
       "    }\n",
       "</style>\n",
       "<table border=\"1\" class=\"dataframe\">\n",
       "  <thead>\n",
       "    <tr style=\"text-align: right;\">\n",
       "      <th></th>\n",
       "      <th>unemployment_rate</th>\n",
       "    </tr>\n",
       "  </thead>\n",
       "  <tbody>\n",
       "    <tr>\n",
       "      <th>0</th>\n",
       "      <td>2.3</td>\n",
       "    </tr>\n",
       "    <tr>\n",
       "      <th>1</th>\n",
       "      <td>6.9</td>\n",
       "    </tr>\n",
       "    <tr>\n",
       "      <th>2</th>\n",
       "      <td>6.3</td>\n",
       "    </tr>\n",
       "    <tr>\n",
       "      <th>3</th>\n",
       "      <td>11.3</td>\n",
       "    </tr>\n",
       "    <tr>\n",
       "      <th>4</th>\n",
       "      <td>9.6</td>\n",
       "    </tr>\n",
       "  </tbody>\n",
       "</table>\n",
       "</div>"
      ],
      "text/plain": [
       "   unemployment_rate\n",
       "0                2.3\n",
       "1                6.9\n",
       "2                6.3\n",
       "3               11.3\n",
       "4                9.6"
      ]
     },
     "execution_count": 7,
     "metadata": {},
     "output_type": "execute_result"
    }
   ],
   "source": [
    "df = pd.DataFrame()\n",
    "df['unemployment_rate'] = data\n",
    "df.head()"
   ]
  },
  {
   "cell_type": "markdown",
   "id": "0eeff001",
   "metadata": {},
   "source": [
    "## Frequency Distribution Table\n",
    "    The cut method for pandas data splits the dataset into bins. There are a number of arguments for the method. The following code creates equal sized bins. The method value_counts returns a frequency table.\n",
    "\n"
   ]
  },
  {
   "cell_type": "code",
   "execution_count": 18,
   "id": "beb91dcb",
   "metadata": {},
   "outputs": [
    {
     "name": "stdout",
     "output_type": "stream",
     "text": [
      "(7.0, 9.0]      20\n",
      "(5.0, 7.0]      13\n",
      "(3.0, 5.0]      12\n",
      "(9.0, 11.0]      7\n",
      "(0.0, 3.0]       4\n",
      "(11.0, 13.0]     4\n",
      "Name: unemployment_rate, dtype: int64\n"
     ]
    }
   ],
   "source": [
    "bins = [0. ,3. ,5. ,7.,9.,11.,13.]\n",
    "frq_df = pd.cut(df['unemployment_rate'], bins)\n",
    "print(frq_df.value_counts())"
   ]
  },
  {
   "cell_type": "code",
   "execution_count": 20,
   "id": "08492094",
   "metadata": {},
   "outputs": [],
   "source": [
    "#new colum of bins\n",
    "bins = [0. ,3. ,5. ,7.,9.,11.,13.]\n",
    "df['feq'] =  pd.cut(df.unemployment_rate,bins,  labels=['1-3','3-5','5-7','7-9','9-11','11-13'])"
   ]
  },
  {
   "cell_type": "code",
   "execution_count": 41,
   "id": "3ab435f9",
   "metadata": {},
   "outputs": [
    {
     "data": {
      "text/html": [
       "<div>\n",
       "<style scoped>\n",
       "    .dataframe tbody tr th:only-of-type {\n",
       "        vertical-align: middle;\n",
       "    }\n",
       "\n",
       "    .dataframe tbody tr th {\n",
       "        vertical-align: top;\n",
       "    }\n",
       "\n",
       "    .dataframe thead th {\n",
       "        text-align: right;\n",
       "    }\n",
       "</style>\n",
       "<table border=\"1\" class=\"dataframe\">\n",
       "  <thead>\n",
       "    <tr style=\"text-align: right;\">\n",
       "      <th></th>\n",
       "      <th>unemployment_rate</th>\n",
       "      <th>feq</th>\n",
       "    </tr>\n",
       "  </thead>\n",
       "  <tbody>\n",
       "    <tr>\n",
       "      <th>0</th>\n",
       "      <td>2.3</td>\n",
       "      <td>1-3</td>\n",
       "    </tr>\n",
       "    <tr>\n",
       "      <th>1</th>\n",
       "      <td>6.9</td>\n",
       "      <td>5-7</td>\n",
       "    </tr>\n",
       "    <tr>\n",
       "      <th>2</th>\n",
       "      <td>6.3</td>\n",
       "      <td>5-7</td>\n",
       "    </tr>\n",
       "    <tr>\n",
       "      <th>3</th>\n",
       "      <td>11.3</td>\n",
       "      <td>11-13</td>\n",
       "    </tr>\n",
       "    <tr>\n",
       "      <th>4</th>\n",
       "      <td>9.6</td>\n",
       "      <td>9-11</td>\n",
       "    </tr>\n",
       "  </tbody>\n",
       "</table>\n",
       "</div>"
      ],
      "text/plain": [
       "   unemployment_rate    feq\n",
       "0                2.3    1-3\n",
       "1                6.9    5-7\n",
       "2                6.3    5-7\n",
       "3               11.3  11-13\n",
       "4                9.6   9-11"
      ]
     },
     "execution_count": 41,
     "metadata": {},
     "output_type": "execute_result"
    }
   ],
   "source": [
    "df.head()"
   ]
  },
  {
   "cell_type": "code",
   "execution_count": 42,
   "id": "c46896a0",
   "metadata": {
    "scrolled": false
   },
   "outputs": [
    {
     "name": "stdout",
     "output_type": "stream",
     "text": [
      "class intervel: 1-3\n",
      "values: [2.3 2.8 2.4 2.9]\n",
      "Frequency: 4\n",
      "************************\n",
      "class intervel: 3-5\n",
      "values: [3.6 4.7 3.1 3.9 4.6 3.6 4.4 4.1 3.4 4.8 4.6 4.7]\n",
      "Frequency: 12\n",
      "************************\n",
      "class intervel: 5-7\n",
      "values: [6.9 6.3 5.6 5.5 5.5 6.8 6.8 6.9 5.9 6.3 6.  6.4 6. ]\n",
      "Frequency: 13\n",
      "************************\n",
      "class intervel: 7-9\n",
      "values: [7.1 7.1 8.8 7.6 7.1 8.8 7.6 7.1 7.8 8.  7.5 7.2 8.4 8.1 7.7 7.5 7.6 7.5\n",
      " 7.2 7.6]\n",
      "Frequency: 20\n",
      "************************\n",
      "class intervel: 9-11\n",
      "values: [ 9.6 10.6  9.1 10.3 11.  10.4  9.5]\n",
      "Frequency: 7\n",
      "************************\n",
      "class intervel: 11-13\n",
      "values: [11.3 11.2 11.4 12. ]\n",
      "Frequency: 4\n",
      "************************\n"
     ]
    }
   ],
   "source": [
    "for i,j in df.groupby('feq')['unemployment_rate']:\n",
    "    print(f\"class intervel: {i}\")\n",
    "    print(f\"values: {j.values}\")\n",
    "    print(f\"Frequency: {len(j)}\")\n",
    "    print(\"************************\")   "
   ]
  },
  {
   "cell_type": "markdown",
   "id": "d7648cf0",
   "metadata": {},
   "source": [
    "## Histogram"
   ]
  },
  {
   "cell_type": "code",
   "execution_count": 62,
   "id": "889fa267",
   "metadata": {},
   "outputs": [
    {
     "data": {
      "image/png": "[encoded data removed]",
      "text/plain": [
       "<Figure size 432x288 with 1 Axes>"
      ]
     },
     "metadata": {
      "needs_background": "light"
     },
     "output_type": "display_data"
    }
   ],
   "source": [
    "plt.xlabel('Unemployment Rates')\n",
    "plt.ylabel('Frequency')\n",
    "plt.title('Unemployment Rates for Canada')\n",
    "plt.ylim(0,30)\n",
    "sns.histplot(df.unemployment_rate, bins=[1,3,5,7,9,11,13])\n",
    "plt.show()"
   ]
  },
  {
   "cell_type": "markdown",
   "id": "a8e4ef0c",
   "metadata": {},
   "source": [
    "### Effect of changing the parameter  bins"
   ]
  },
  {
   "cell_type": "markdown",
   "id": "33fa7955",
   "metadata": {},
   "source": [
    "#### case1- increas the number of bins (class intervals)"
   ]
  },
  {
   "cell_type": "code",
   "execution_count": 53,
   "id": "992d2f4b",
   "metadata": {},
   "outputs": [
    {
     "data": {
      "image/png": "[encoded data removed]",
      "text/plain": [
       "<Figure size 432x288 with 1 Axes>"
      ]
     },
     "metadata": {
      "needs_background": "light"
     },
     "output_type": "display_data"
    }
   ],
   "source": [
    "plt.xlabel('Unemployment Rates')\n",
    "plt.ylabel('Frequency')\n",
    "plt.title('Unemployment Rates for Canada')\n",
    "plt.ylim(0,30)\n",
    "sns.histplot(df.unemployment_rate, bins=[1.,2.,3.,4.,5.,6. ,7.,8.,9.,10.,11.,12.,13.])\n",
    "plt.show()"
   ]
  },
  {
   "cell_type": "markdown",
   "id": "ef6dcd19",
   "metadata": {},
   "source": [
    "#### case2- decrease the number of bins (class intervals)"
   ]
  },
  {
   "cell_type": "code",
   "execution_count": 63,
   "id": "619e5fa6",
   "metadata": {},
   "outputs": [
    {
     "data": {
      "image/png": "[encoded data removed]",
      "text/plain": [
       "<Figure size 432x288 with 1 Axes>"
      ]
     },
     "metadata": {
      "needs_background": "light"
     },
     "output_type": "display_data"
    }
   ],
   "source": [
    "plt.xlabel('Unemployment Rates')\n",
    "plt.ylabel('Frequency')\n",
    "plt.title('Unemployment Rates for Canada')\n",
    "sns.histplot(df.unemployment_rate, bins=[1.,5. ,9.,13.])\n",
    "plt.show()"
   ]
  },
  {
   "cell_type": "code",
   "execution_count": null,
   "id": "ed640842",
   "metadata": {},
   "outputs": [],
   "source": []
  }
 ],
 "metadata": {
  "kernelspec": {
   "display_name": "Python 3 (ipykernel)",
   "language": "python",
   "name": "python3"
  },
  "language_info": {
   "codemirror_mode": {
    "name": "ipython",
    "version": 3
   },
   "file_extension": ".py",
   "mimetype": "text/x-python",
   "name": "python",
   "nbconvert_exporter": "python",
   "pygments_lexer": "ipython3",
   "version": "3.9.7"
  }
 },
 "nbformat": 4,
 "nbformat_minor": 5
}
